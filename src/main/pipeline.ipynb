{
 "cells": [
  {
   "cell_type": "code",
   "execution_count": 42,
   "metadata": {},
   "outputs": [],
   "source": [
    "%%writefile ./scripts/trainsec.py\n",
    "\n",
    "from sklearn.ensemble import RandomForestClassifier, RandomForestRegressor\n",
    "from sklearn.metrics import ConfusionMatrixDisplay\n",
    "from sklearn.model_selection import train_test_split\n",
    "from sklearn import metrics\n",
    "import matplotlib.pyplot as plt\n",
    "import json\n",
    "import os\n",
    "import numpy as np\n",
    "import pandas as pd\n",
    "import joblib\n",
    "from sklearn.decomposition import PCA\n"
   ]
  },
  {
   "cell_type": "code",
   "execution_count": 43,
   "metadata": {},
   "outputs": [],
   "source": [
    "%%writefile -a ./scripts/trainsec.py\n",
    "\n",
    "PCA_N_COMPONENTS = 4"
   ]
  },
  {
   "cell_type": "code",
   "execution_count": 29,
   "metadata": {},
   "outputs": [
    {
     "name": "stdout",
     "output_type": "stream",
     "text": [
      "Appending to ./scripts/trainsec.py\n"
     ]
    }
   ],
   "source": [
    "%%writefile -a ./scripts/trainsec.py\n",
    "\n",
    "def setDataTypes(df):\n",
    "    return df.assign(\n",
    "                time = pd.to_datetime(df.time)\n",
    "            )"
   ]
  },
  {
   "cell_type": "code",
   "execution_count": 30,
   "metadata": {},
   "outputs": [
    {
     "name": "stdout",
     "output_type": "stream",
     "text": [
      "Appending to ./scripts/trainsec.py\n"
     ]
    }
   ],
   "source": [
    "%%writefile -a ./scripts/trainsec.py\n",
    "\n",
    "def createCategoryColumnRoad(df):\n",
    "    return df.assign(\n",
    "                road = (df.x.astype(str) + df.y.astype(str) + df.direction).astype('category').cat.codes\n",
    "            )"
   ]
  },
  {
   "cell_type": "code",
   "execution_count": 31,
   "metadata": {},
   "outputs": [
    {
     "name": "stdout",
     "output_type": "stream",
     "text": [
      "Appending to ./scripts/trainsec.py\n"
     ]
    }
   ],
   "source": [
    "%%writefile -a ./scripts/trainsec.py\n",
    "\n",
    "def extractExtraInfoFromTime(df):\n",
    "    return df.assign(\n",
    "                day = df.time.dt.day,\n",
    "                hour = df.time.dt.hour,\n",
    "                minute = df.time.dt.minute,\n",
    "                dayofweek = df.time.dt.dayofweek,\n",
    "                month = df.time.dt.month,\n",
    "                weekend = (df.time.dt.weekday >= 5),\n",
    "            )\n"
   ]
  },
  {
   "cell_type": "code",
   "execution_count": 32,
   "metadata": {},
   "outputs": [
    {
     "name": "stdout",
     "output_type": "stream",
     "text": [
      "Appending to ./scripts/trainsec.py\n"
     ]
    }
   ],
   "source": [
    "%%writefile -a ./scripts/trainsec.py\n",
    "\n",
    "def setCongestionColumnByDayAndHour(df):\n",
    "    temp = df.groupby([\"day\", \"road\", \"hour\", \"minute\"]).median().reset_index()[[\"day\", \"road\", \"hour\", \"minute\", \"congestion\"]]\n",
    "    temp = temp.rename(columns={\"congestion\": \"day_hour_congestion\"})\n",
    "    df = df.merge(temp, on=[\"day\", \"road\", \"hour\", \"minute\"])\n",
    "    return df\n"
   ]
  },
  {
   "cell_type": "code",
   "execution_count": 33,
   "metadata": {},
   "outputs": [
    {
     "name": "stdout",
     "output_type": "stream",
     "text": [
      "Appending to ./scripts/trainsec.py\n"
     ]
    }
   ],
   "source": [
    "%%writefile -a ./scripts/trainsec.py\n",
    "\n",
    "def setCongestionColumnByDayOfWeekAndHour(df):\n",
    "    temp = df.groupby([\"dayofweek\", \"road\", \"hour\", \"minute\"]).median().reset_index()[[\"dayofweek\", \"road\", \"hour\", \"minute\", \"congestion\"]]\n",
    "    temp = temp.rename(columns={\"congestion\": \"dayofweek_hour_congestion\"})\n",
    "    df = df.merge(temp, on=[\"dayofweek\", \"road\", \"hour\", \"minute\"])\n",
    "    return df\n"
   ]
  },
  {
   "cell_type": "code",
   "execution_count": 34,
   "metadata": {},
   "outputs": [
    {
     "name": "stdout",
     "output_type": "stream",
     "text": [
      "Appending to ./scripts/trainsec.py\n"
     ]
    }
   ],
   "source": [
    "%%writefile -a ./scripts/trainsec.py\n",
    "\n",
    "def setCongestionColumnByMonth(df):\n",
    "    temp = df.groupby([\"month\", \"road\"]).median().reset_index()[[\"month\", \"road\", \"congestion\"]]\n",
    "    temp = temp.rename(columns={\"congestion\": \"month_congestion\"})\n",
    "    df = df.merge(temp, on=[\"month\", \"road\"])\n",
    "    return df"
   ]
  },
  {
   "cell_type": "code",
   "execution_count": 35,
   "metadata": {},
   "outputs": [
    {
     "name": "stdout",
     "output_type": "stream",
     "text": [
      "Appending to ./scripts/trainsec.py\n"
     ]
    }
   ],
   "source": [
    "%%writefile -a ./scripts/trainsec.py\n",
    "\n",
    "def setCongestionColumnByHourAndMonth(df):\n",
    "    temp = df.groupby([\"month\", \"road\", \"hour\", \"minute\"]).median().reset_index()[[\"month\", \"road\", \"hour\", \"minute\", \"congestion\"]]\n",
    "    temp = temp.rename(columns={\"congestion\": \"month_hour_congestion\"})\n",
    "    df = df.merge(temp, on=[\"month\", \"road\", \"hour\", \"minute\"])\n",
    "    return df\n"
   ]
  },
  {
   "cell_type": "code",
   "execution_count": 44,
   "metadata": {},
   "outputs": [],
   "source": [
    "%%writefile -a ./scripts/trainsec.py\n",
    "\n",
    "def transformPCA(df, label):\n",
    "\n",
    "    pca = PCA(n_components=PCA_N_COMPONENTS, svd_solver='full')\n",
    "    df = pca.fit_transform(df)\n",
    "\n",
    "    with open(\"params.txt\", \"w\") as outfile:\n",
    "        outfile.write(\"\\nInfo PCA: \\n\")\n",
    "        outfile.write(\"N Compoments: \" + str(PCA_N_COMPONENTS) + \"\\n\")\n",
    "        outfile.write(\"Explained Variance Ratio: \" + str(pca.explained_variance_ratio_) + \"\\n\")\n",
    "        outfile.write(\"Singular values: \" + str(pca.singular_values_) + \"\\n\\n\")\n",
    "    \n",
    "    return pd.DataFrame([df, label.values])"
   ]
  },
  {
   "cell_type": "code",
   "execution_count": null,
   "metadata": {},
   "outputs": [],
   "source": []
  },
  {
   "cell_type": "code",
   "execution_count": 56,
   "metadata": {},
   "outputs": [
    {
     "name": "stdout",
     "output_type": "stream",
     "text": [
      "Reading data...\n"
     ]
    },
    {
     "ename": "NameError",
     "evalue": "name 'setDataTypes' is not defined",
     "output_type": "error",
     "traceback": [
      "\u001b[0;31m---------------------------------------------------------------------------\u001b[0m",
      "\u001b[0;31mNameError\u001b[0m                                 Traceback (most recent call last)",
      "\u001b[1;32m/home/alcado/repos/training/mlops/src/main/pipeline.ipynb Cell 12'\u001b[0m in \u001b[0;36m<cell line: 8>\u001b[0;34m()\u001b[0m\n\u001b[1;32m      <a href='vscode-notebook-cell:/home/alcado/repos/training/mlops/src/main/pipeline.ipynb#ch0000016?line=3'>4</a>\u001b[0m \u001b[39mprint\u001b[39m(\u001b[39m\"\u001b[39m\u001b[39mReading data...\u001b[39m\u001b[39m\"\u001b[39m)\n\u001b[1;32m      <a href='vscode-notebook-cell:/home/alcado/repos/training/mlops/src/main/pipeline.ipynb#ch0000016?line=4'>5</a>\u001b[0m df \u001b[39m=\u001b[39m pd\u001b[39m.\u001b[39mread_csv(\u001b[39m\"\u001b[39m\u001b[39m../../data/train.csv\u001b[39m\u001b[39m\"\u001b[39m)\n\u001b[1;32m      <a href='vscode-notebook-cell:/home/alcado/repos/training/mlops/src/main/pipeline.ipynb#ch0000016?line=6'>7</a>\u001b[0m df \u001b[39m=\u001b[39m ( \n\u001b[1;32m      <a href='vscode-notebook-cell:/home/alcado/repos/training/mlops/src/main/pipeline.ipynb#ch0000016?line=7'>8</a>\u001b[0m         df\n\u001b[0;32m----> <a href='vscode-notebook-cell:/home/alcado/repos/training/mlops/src/main/pipeline.ipynb#ch0000016?line=8'>9</a>\u001b[0m             \u001b[39m.\u001b[39mpipe(setDataTypes)\n\u001b[1;32m     <a href='vscode-notebook-cell:/home/alcado/repos/training/mlops/src/main/pipeline.ipynb#ch0000016?line=9'>10</a>\u001b[0m             \u001b[39m.\u001b[39mpipe(createCategoryColumnRoad)\n\u001b[1;32m     <a href='vscode-notebook-cell:/home/alcado/repos/training/mlops/src/main/pipeline.ipynb#ch0000016?line=10'>11</a>\u001b[0m             \u001b[39m.\u001b[39mpipe(extractExtraInfoFromTime)\n\u001b[1;32m     <a href='vscode-notebook-cell:/home/alcado/repos/training/mlops/src/main/pipeline.ipynb#ch0000016?line=11'>12</a>\u001b[0m             \u001b[39m.\u001b[39mpipe(setCongestionColumnByDayAndHour)\n\u001b[1;32m     <a href='vscode-notebook-cell:/home/alcado/repos/training/mlops/src/main/pipeline.ipynb#ch0000016?line=12'>13</a>\u001b[0m             \u001b[39m.\u001b[39mpipe(setCongestionColumnByMonth)\n\u001b[1;32m     <a href='vscode-notebook-cell:/home/alcado/repos/training/mlops/src/main/pipeline.ipynb#ch0000016?line=13'>14</a>\u001b[0m             \u001b[39m.\u001b[39mpipe(setCongestionColumnByHourAndMonth)\n\u001b[1;32m     <a href='vscode-notebook-cell:/home/alcado/repos/training/mlops/src/main/pipeline.ipynb#ch0000016?line=14'>15</a>\u001b[0m             \u001b[39m.\u001b[39mpipe(setCongestionColumnByDayOfWeekAndHour)\n\u001b[1;32m     <a href='vscode-notebook-cell:/home/alcado/repos/training/mlops/src/main/pipeline.ipynb#ch0000016?line=15'>16</a>\u001b[0m             \u001b[39m.\u001b[39mdrop([\u001b[39m\"\u001b[39m\u001b[39mrow_id\u001b[39m\u001b[39m\"\u001b[39m,\u001b[39m\"\u001b[39m\u001b[39mx\u001b[39m\u001b[39m\"\u001b[39m,\u001b[39m\"\u001b[39m\u001b[39my\u001b[39m\u001b[39m\"\u001b[39m,\u001b[39m\"\u001b[39m\u001b[39mdirection\u001b[39m\u001b[39m\"\u001b[39m, \u001b[39m\"\u001b[39m\u001b[39mtime\u001b[39m\u001b[39m\"\u001b[39m], axis\u001b[39m=\u001b[39m\u001b[39m1\u001b[39m)\n\u001b[1;32m     <a href='vscode-notebook-cell:/home/alcado/repos/training/mlops/src/main/pipeline.ipynb#ch0000016?line=16'>17</a>\u001b[0m             \u001b[39m.\u001b[39mpipe(\u001b[39mlambda\u001b[39;00m _df:\n\u001b[1;32m     <a href='vscode-notebook-cell:/home/alcado/repos/training/mlops/src/main/pipeline.ipynb#ch0000016?line=17'>18</a>\u001b[0m                 transformPCA(_df\u001b[39m.\u001b[39mdrop(\u001b[39m\"\u001b[39m\u001b[39mcongestion\u001b[39m\u001b[39m\"\u001b[39m,axis\u001b[39m=\u001b[39m\u001b[39m1\u001b[39m), _df[\u001b[39m'\u001b[39m\u001b[39mcongestion\u001b[39m\u001b[39m'\u001b[39m])\n\u001b[1;32m     <a href='vscode-notebook-cell:/home/alcado/repos/training/mlops/src/main/pipeline.ipynb#ch0000016?line=18'>19</a>\u001b[0m             )\n\u001b[1;32m     <a href='vscode-notebook-cell:/home/alcado/repos/training/mlops/src/main/pipeline.ipynb#ch0000016?line=19'>20</a>\u001b[0m )\n\u001b[1;32m     <a href='vscode-notebook-cell:/home/alcado/repos/training/mlops/src/main/pipeline.ipynb#ch0000016?line=21'>22</a>\u001b[0m X_train, X_test, y_train, y_test \u001b[39m=\u001b[39m train_test_split(df\u001b[39m.\u001b[39mdrop(\u001b[39m\"\u001b[39m\u001b[39mcongestion\u001b[39m\u001b[39m\"\u001b[39m,axis\u001b[39m=\u001b[39m\u001b[39m1\u001b[39m), df[\u001b[39m'\u001b[39m\u001b[39mcongestion\u001b[39m\u001b[39m'\u001b[39m], test_size\u001b[39m=\u001b[39m\u001b[39m0.33\u001b[39m, random_state\u001b[39m=\u001b[39m\u001b[39m42\u001b[39m)\n",
      "\u001b[0;31mNameError\u001b[0m: name 'setDataTypes' is not defined"
     ]
    }
   ],
   "source": [
    "# %%writefile -a ./scripts/trainsec.py\n",
    "\n",
    "# Read in data\n",
    "print(\"Reading data...\")\n",
    "df = pd.read_csv(\"../../data/train.csv\")\n",
    "\n",
    "df = ( \n",
    "        df\n",
    "            .pipe(setDataTypes)\n",
    "            .pipe(createCategoryColumnRoad)\n",
    "            .pipe(extractExtraInfoFromTime)\n",
    "            .pipe(setCongestionColumnByDayAndHour)\n",
    "            .pipe(setCongestionColumnByMonth)\n",
    "            .pipe(setCongestionColumnByHourAndMonth)\n",
    "            .pipe(setCongestionColumnByDayOfWeekAndHour)\n",
    "            .drop([\"row_id\",\"x\",\"y\",\"direction\", \"time\"], axis=1)\n",
    "            .pipe(lambda _df:\n",
    "                transformPCA(_df.drop(\"congestion\",axis=1), _df['congestion'])\n",
    "            )\n",
    ")\n",
    "\n",
    "X_train, X_test, y_train, y_test = train_test_split(df.drop(\"congestion\",axis=1), df['congestion'], test_size=0.33, random_state=42)"
   ]
  },
  {
   "cell_type": "code",
   "execution_count": 37,
   "metadata": {},
   "outputs": [
    {
     "name": "stdout",
     "output_type": "stream",
     "text": [
      "Appending to ./scripts/trainsec.py\n"
     ]
    }
   ],
   "source": [
    "# %%writefile -a ./scripts/trainsec.py\n",
    "\n",
    "# Fit a model\n",
    "clf = RandomForestRegressor(n_estimators=100)\n",
    "\n",
    "clf.fit(X_train, y_train)\n",
    "\n",
    "y_pred = clf.predict(X_test)\n",
    "\n",
    "\n",
    "with open(\"metrics.txt\", \"w\") as outfile:\n",
    "    outfile.write(\"Mean Absolute Error: \" + str(metrics.mean_absolute_error(y_test, y_pred)) + \"\\n\")\n",
    "    outfile.write(\"Mean Squared Error: \" + str(metrics.mean_squared_error(y_test, y_pred)) + \"\\n\")\n",
    "    outfile.write(\"Root Mean Squared Error: \" + str(np.sqrt(metrics.mean_squared_error(y_test, y_pred))) + \"\\n\")\n",
    "\n",
    "# Plot it\n",
    "importances = clf.feature_importances_\n",
    "forest_importances = pd.Series(importances, index=list(X_train.columns))\n",
    "std = np.std([tree.feature_importances_ for tree in clf.estimators_], axis=0)\n",
    "\n",
    "fig, ax = plt.subplots()\n",
    "forest_importances.plot.bar(yerr=std, ax=ax)\n",
    "ax.set_title(\"Feature importances using MDI\")\n",
    "ax.set_ylabel(\"Mean decrease in impurity\")\n",
    "fig.tight_layout()\n",
    "\n",
    "plt.savefig(\"plot.png\")\n",
    "\n",
    "\n",
    "joblib.dump(clf, \"model.pkl\")"
   ]
  },
  {
   "cell_type": "code",
   "execution_count": null,
   "metadata": {},
   "outputs": [],
   "source": []
  }
 ],
 "metadata": {
  "interpreter": {
   "hash": "520e4c443cf0357e75dd342a1303b95ccb3e1b3a31e1e362373da28c0a90173c"
  },
  "kernelspec": {
   "display_name": "Python 3.9.7 ('mlenv')",
   "language": "python",
   "name": "python3"
  },
  "language_info": {
   "codemirror_mode": {
    "name": "ipython",
    "version": 3
   },
   "file_extension": ".py",
   "mimetype": "text/x-python",
   "name": "python",
   "nbconvert_exporter": "python",
   "pygments_lexer": "ipython3",
   "version": "3.9.7"
  },
  "orig_nbformat": 4
 },
 "nbformat": 4,
 "nbformat_minor": 2
}
